{
 "cells": [
  {
   "cell_type": "code",
   "execution_count": 1,
   "metadata": {
    "collapsed": false
   },
   "outputs": [
    {
     "name": "stdout",
     "output_type": "stream",
     "text": [
      "Using matplotlib backend: Qt4Agg\n",
      "Populating the interactive namespace from numpy and matplotlib\n"
     ]
    }
   ],
   "source": [
    "%pylab\n",
    "from matplotlib import animation"
   ]
  },
  {
   "cell_type": "code",
   "execution_count": 6,
   "metadata": {
    "collapsed": false
   },
   "outputs": [],
   "source": [
    "def diff_P(P, sun_orbit):\n",
    "    G = 1.0\n",
    "    M_1 = .5\n",
    "    M_2 = .3\n",
    "    x_1, y_1, x_2, y_2 = sun_orbit\n",
    "    x, y, vx, vy = P\n",
    "    r3_1 = (sqrt((x-x_1)**2 + (y-y_1)**2)**3)        \n",
    "    r3_2 = (sqrt((x-x_2)**2 + (y-y_2)**2)**3)\n",
    "    ax_1 = -G*M_1*(x-x_1)/r3_1\n",
    "    ax_2 = -G*M_2*(x-x_2)/r3_2\n",
    "    ay_1 = -G*M_1*(y-y_1)/r3_1\n",
    "    ay_2 = -G*M_2*(y-y_2)/r3_2\n",
    "    ax =ax_1 + ax_2\n",
    "    ay = ay_1 + ay_2\n",
    "    return array([vx, vy, ax, ay])"
   ]
  },
  {
   "cell_type": "code",
   "execution_count": 3,
   "metadata": {
    "collapsed": true
   },
   "outputs": [],
   "source": [
    "def calculate_orbit(steps, h, x=3., y=0., vx=0, vy=.5):\n",
    "    r= .5 # could pass this in through the parameters of calculate_orbit\n",
    "    sun_orbit = sun_rot(steps, h, r)\n",
    "    orbit = empty((steps, 4))\n",
    "    P = array([x, y, vx, vy])\n",
    "    for i in xrange(steps):\n",
    "        orbit[i] = P\n",
    "        Ptilde = P + h*diff_P(P, sun_orbit[i])\n",
    "        P += h*(diff_P(P, sun_orbit[i]) + diff_P(Ptilde, sun_orbit[i]))/2.\n",
    "    return orbit"
   ]
  },
  {
   "cell_type": "code",
   "execution_count": 4,
   "metadata": {
    "collapsed": true
   },
   "outputs": [],
   "source": [
    "def sun_rot(steps,h, r):\n",
    "    sun_orbit = empty((steps,4))\n",
    "   \n",
    "    for t in xrange(steps):\n",
    "        x_1 = r*cos(t*h)\n",
    "        x_2 = -r*cos(t*h)\n",
    "        y_1 = r*sin(t*h)\n",
    "        y_2 = -r*sin(t*h)\n",
    "        sun_orbit[t] = x_1, y_1, x_2, y_2\n",
    "    \n",
    "    return sun_orbit"
   ]
  },
  {
   "cell_type": "code",
   "execution_count": 5,
   "metadata": {
    "collapsed": false
   },
   "outputs": [
    {
     "data": {
      "text/plain": [
       "<matplotlib.animation.FuncAnimation at 0x7fb56e33c610>"
      ]
     },
     "execution_count": 5,
     "metadata": {},
     "output_type": "execute_result"
    }
   ],
   "source": [
    "steps = 5000\n",
    "h = .1\n",
    "fig, ax = subplots(figsize=(6, 6))\n",
    "ax.set_aspect('equal')\n",
    "ax.set_axis_bgcolor('k')\n",
    "# \"point\" repesents the planet \n",
    "point, = plot([], [], 'ro')\n",
    "line, = plot([], [], 'cyan')\n",
    "sun, = plot([], [], 'yo', ms=8)\n",
    "sun_2, = plot([],[], \"yo\", ms = 8)\n",
    "# The size of the displayed area is fixed at the start, to avoid resizing during the animation\n",
    "size = 4\n",
    "xlim(-size, size)\n",
    "ylim(-size, size)\n",
    "# Calculate the complete orbit in advance.\n",
    "orbit = calculate_orbit(steps, h)\n",
    "sun_orbit = sun_rot(steps, h, .5)\n",
    "\n",
    "\n",
    "# Initialization function for the start of the animation\n",
    "def init():\n",
    "    point.set_data([], [])\n",
    "    line.set_data([], [])\n",
    "    sun.set_data([], [])\n",
    "    sun_2.set_data([], [])\n",
    "    return line, point, sun, sun_2,\n",
    "\n",
    "# Function to update the data for each frame of the animation\n",
    "def animate(i):\n",
    "    point.set_data(orbit[i, 0], orbit[i, 1])\n",
    "    line.set_data(orbit[:i, 0], orbit[:i, 1])\n",
    "    sun.set_data(sun_orbit[i, 0], sun_orbit[i, 1])\n",
    "    sun_2.set_data(sun_orbit[i,2], sun_orbit[i, 3])\n",
    "    return line, point, sun, sun_2,\n",
    "\n",
    "# This is called to generate and run the animation\n",
    "animation.FuncAnimation(fig, animate, init_func=init, frames=steps, interval=20, blit=True, repeat=True)"
   ]
  },
  {
   "cell_type": "code",
   "execution_count": null,
   "metadata": {
    "collapsed": true
   },
   "outputs": [],
   "source": []
  },
  {
   "cell_type": "code",
   "execution_count": null,
   "metadata": {
    "collapsed": true
   },
   "outputs": [],
   "source": []
  }
 ],
 "metadata": {
  "kernelspec": {
   "display_name": "Python 2",
   "language": "python",
   "name": "python2"
  },
  "language_info": {
   "codemirror_mode": {
    "name": "ipython",
    "version": 2
   },
   "file_extension": ".py",
   "mimetype": "text/x-python",
   "name": "python",
   "nbconvert_exporter": "python",
   "pygments_lexer": "ipython2",
   "version": "2.7.10"
  }
 },
 "nbformat": 4,
 "nbformat_minor": 0
}
